{
 "cells": [
  {
   "cell_type": "markdown",
   "metadata": {},
   "source": [
    "Ask for a color and store that answer\n",
    "If the answer is grey then print out you found Victor's favorite color.\n",
    "Otherwise print out the color is not Victor's favorite color."
   ]
  },
  {
   "cell_type": "code",
   "execution_count": 9,
   "metadata": {},
   "outputs": [
    {
     "name": "stdout",
     "output_type": "stream",
     "text": [
      "Input a color --> grey\n",
      "You found Victor's favorite color, grey\n"
     ]
    }
   ],
   "source": [
    "color = input(\"Input a color --> \")\n",
    "if color == \"grey\":\n",
    "    print(\"You found Victor's favorite color,\", color)\n",
    "else:\n",
    "    print(f\"{color} is not Victor's favorite color\")"
   ]
  },
  {
   "cell_type": "markdown",
   "metadata": {},
   "source": [
    "Now with the code before add in more conditions for other colors such as red, green, blue and write statements for them. "
   ]
  },
  {
   "cell_type": "code",
   "execution_count": 10,
   "metadata": {},
   "outputs": [
    {
     "name": "stdout",
     "output_type": "stream",
     "text": [
      "Input a color --> white\n",
      "white is not Victor's favorite color\n"
     ]
    }
   ],
   "source": [
    "color = input(\"Input a color --> \")\n",
    "if color == \"grey\":\n",
    "    print(\"You found Victor's favorite color\", color)\n",
    "elif color == \"red\":\n",
    "    print(\"You found Victor's other favorite color\", color)\n",
    "elif color == \"green\":\n",
    "    print(\"You found Victor's other favorite color\", color)\n",
    "elif color == \"blue\":\n",
    "    print(\"You found Victor's other favorite color\", color)\n",
    "else:\n",
    "    print(f\"{color} is not Victor's favorite color\")"
   ]
  },
  {
   "cell_type": "markdown",
   "metadata": {},
   "source": [
    "Ask for an exam score and store that number\n",
    "If the number is greater than 100\n",
    "print out you cannot have an exam score higher than 100.\n",
    "if the number doesn't exceeed 100 but is greater than 75\n",
    "print out you did great on your exam!\n",
    "otherwise if they scored lower than 75\n",
    "print out that they need to study harder."
   ]
  },
  {
   "cell_type": "code",
   "execution_count": 14,
   "metadata": {},
   "outputs": [
    {
     "name": "stdout",
     "output_type": "stream",
     "text": [
      "Input an exam score -->75\n",
      "You need to study harder\n"
     ]
    }
   ],
   "source": [
    "examScore = int(input(\"Input an exam score -->\"))\n",
    "if examScore > 100:\n",
    "    print(\"You cannot have an exam score higher than 100.\")\n",
    "elif examScore > 75:\n",
    "    print(\"You did great on your exam.\")\n",
    "else:\n",
    "    print(\"You need to study harder\")"
   ]
  },
  {
   "cell_type": "markdown",
   "metadata": {},
   "source": [
    "Define a function that takes in 3 numbers and adds them together\n",
    "Define a function that takes in 2 numbers and multiplies them\n",
    "Tell the user to choose option 1 to add three numbers or to choose option 2 to mutiply two numbers.\n",
    "If they choose 1 then use the first function otherwise if they choose 2 then use the second function. "
   ]
  },
  {
   "cell_type": "code",
   "execution_count": 49,
   "metadata": {},
   "outputs": [
    {
     "name": "stdout",
     "output_type": "stream",
     "text": [
      "Choose option 1 to add three numbers or choose option 2 to multiply two numbers.\n",
      "Choice -->1\n",
      "First number to add --> 5\n",
      "Second number to add --> 7\n",
      "Third number to add --> 9\n",
      "21\n",
      "\n",
      "----- OR -----\n",
      "\n",
      "Choose option 1 to add three numbers or choose option 2 to multiply two numbers.\n",
      "Choice -->2\n",
      "First number to multiply --> 5\n",
      "Second number to multiply --> 67\n",
      "335\n"
     ]
    }
   ],
   "source": [
    "def addThreeNumbers (a,b,c):\n",
    "    return (a+b+c)\n",
    "def multiplyTwoNumbers (x,y):\n",
    "    return (x*y)\n",
    "\n",
    "print(\"Choose option 1 to add three numbers or choose option 2 to multiply two numbers.\")\n",
    "optionChoice = input(\"Choice -->\")\n",
    "if optionChoice == \"1\":\n",
    "    one = int(input(\"First number to add --> \"))\n",
    "    two = int(input(\"Second number to add --> \"))\n",
    "    three = int(input(\"Third number to add --> \"))\n",
    "    print(addThreeNumbers(one,two,three))\n",
    "elif optionChoice == \"2\":\n",
    "    one = int(input(\"First number to multiply --> \"))\n",
    "    two = int(input(\"Second number to multiply --> \"))\n",
    "    print(multiplyTwoNumbers(one,two))\n",
    "else:\n",
    "    print(\"That was not an option!\")\n",
    "\n",
    "\n",
    "# ----- OR ----- you could get the input from inside the function\n",
    "print(\"\\n----- OR -----\\n\")\n",
    "\n",
    "def alternateAddThreeNumbers ():\n",
    "    one = int(input(\"First number to add --> \"))\n",
    "    two = int(input(\"Second number to add --> \"))\n",
    "    three = int(input(\"Third number to add --> \"))\n",
    "    return (one+two+three)\n",
    "def alternateMultiplyTwoNumbers():\n",
    "    one = int(input(\"First number to multiply --> \"))\n",
    "    two = int(input(\"Second number to multiply --> \"))\n",
    "    return(one*two)\n",
    "\n",
    "print(\"Choose option 1 to add three numbers or choose option 2 to multiply two numbers.\")\n",
    "optionChoice = input(\"Choice -->\")\n",
    "if optionChoice == \"1\":\n",
    "    print(alternateAddThreeNumbers())\n",
    "elif optionChoice ==\"2\":\n",
    "    print(alternateMultiplyTwoNumbers())\n",
    "else:\n",
    "    print(\"That was not an option!\")"
   ]
  },
  {
   "cell_type": "markdown",
   "metadata": {},
   "source": [
    "Make a loop go from 50 to 100 and print every iteration"
   ]
  },
  {
   "cell_type": "code",
   "execution_count": 51,
   "metadata": {},
   "outputs": [
    {
     "name": "stdout",
     "output_type": "stream",
     "text": [
      "50 51 52 53 54 55 56 57 58 59 60 61 62 63 64 65 66 67 68 69 70 71 72 73 74 75 76 77 78 79 80 81 82 83 84 85 86 87 88 89 90 91 92 93 94 95 96 97 98 99 100 "
     ]
    }
   ],
   "source": [
    "for i in range (50, 101):\n",
    "    print(i, end=\" \") "
   ]
  },
  {
   "cell_type": "markdown",
   "metadata": {},
   "source": [
    "Make an empty list and call it names"
   ]
  },
  {
   "cell_type": "code",
   "execution_count": 20,
   "metadata": {},
   "outputs": [],
   "source": [
    "names = []"
   ]
  },
  {
   "cell_type": "markdown",
   "metadata": {},
   "source": [
    "Make names filled with names of 5 people (Hannah, Victor, Sam, James, John)"
   ]
  },
  {
   "cell_type": "code",
   "execution_count": 22,
   "metadata": {},
   "outputs": [],
   "source": [
    "names.append(\"Hannah\")\n",
    "names.append(\"Victor\")\n",
    "names.append(\"Sam\")\n",
    "names.append(\"James\")\n",
    "names.append(\"John\")"
   ]
  },
  {
   "cell_type": "markdown",
   "metadata": {},
   "source": [
    "Make names sorted in reverse. Print out the list using a for-enhanced loop"
   ]
  },
  {
   "cell_type": "code",
   "execution_count": 24,
   "metadata": {},
   "outputs": [
    {
     "name": "stdout",
     "output_type": "stream",
     "text": [
      "Victor\n",
      "Sam\n",
      "John\n",
      "James\n",
      "Hannah\n"
     ]
    }
   ],
   "source": [
    "names.sort(reverse=True)\n",
    "for name in names:\n",
    "    print(name)"
   ]
  },
  {
   "cell_type": "markdown",
   "metadata": {},
   "source": [
    "Make names sorted alphabetically. Print out the list using regular for loop"
   ]
  },
  {
   "cell_type": "code",
   "execution_count": 26,
   "metadata": {},
   "outputs": [
    {
     "name": "stdout",
     "output_type": "stream",
     "text": [
      "Hannah\n",
      "James\n",
      "John\n",
      "Sam\n",
      "Victor\n"
     ]
    }
   ],
   "source": [
    "names.sort()\n",
    "for i in range (0, len(names)):\n",
    "    print(names[i])"
   ]
  },
  {
   "cell_type": "markdown",
   "metadata": {},
   "source": [
    "Pull out the fourth item from names and print it out"
   ]
  },
  {
   "cell_type": "code",
   "execution_count": 27,
   "metadata": {},
   "outputs": [
    {
     "name": "stdout",
     "output_type": "stream",
     "text": [
      "Sam\n"
     ]
    }
   ],
   "source": [
    "name = names[3]\n",
    "print(name)"
   ]
  },
  {
   "cell_type": "markdown",
   "metadata": {},
   "source": [
    "Pull out the first item from names and print it out"
   ]
  },
  {
   "cell_type": "code",
   "execution_count": 28,
   "metadata": {},
   "outputs": [
    {
     "name": "stdout",
     "output_type": "stream",
     "text": [
      "Hannah\n"
     ]
    }
   ],
   "source": [
    "name = names[0]\n",
    "print(name)"
   ]
  },
  {
   "cell_type": "markdown",
   "metadata": {},
   "source": [
    "Make an empty list called words and add each word into the list using the append function. The words are (Hello, Python,Class, Friends, Online, Jupyter).\n",
    "Print out the list using a for-enchanced loop"
   ]
  },
  {
   "cell_type": "code",
   "execution_count": 29,
   "metadata": {},
   "outputs": [
    {
     "name": "stdout",
     "output_type": "stream",
     "text": [
      "Hello\n",
      "Python\n",
      "Class\n",
      "Friends\n",
      "Online\n",
      "Jupyter\n"
     ]
    }
   ],
   "source": [
    "words = []\n",
    "words.append(\"Hello\")\n",
    "words.append(\"Python\")\n",
    "words.append(\"Class\")\n",
    "words.append(\"Friends\")\n",
    "words.append(\"Online\")\n",
    "words.append(\"Jupyter\")\n",
    "for word in words:\n",
    "    print(word)"
   ]
  },
  {
   "cell_type": "markdown",
   "metadata": {},
   "source": [
    "Make words lose it's last word and print out the new list."
   ]
  },
  {
   "cell_type": "code",
   "execution_count": 30,
   "metadata": {},
   "outputs": [
    {
     "name": "stdout",
     "output_type": "stream",
     "text": [
      "Hello\n",
      "Python\n",
      "Class\n",
      "Friends\n",
      "Online\n"
     ]
    }
   ],
   "source": [
    "words.pop(-1)\n",
    "for word in words:\n",
    "    print(word)"
   ]
  },
  {
   "cell_type": "markdown",
   "metadata": {},
   "source": [
    "Make a variable named fruits that contains a string \"Apples Oranges Bananas Pineapples Persimmons Dragonfruit\" and make it into a list splitting it by the spaces."
   ]
  },
  {
   "cell_type": "code",
   "execution_count": 35,
   "metadata": {},
   "outputs": [
    {
     "name": "stdout",
     "output_type": "stream",
     "text": [
      "Apples Oranges Bananas Pineapples Persimmons Dragonfruit\n",
      "['Apples', 'Oranges', 'Bananas', 'Pineapples', 'Persimmons', 'Dragonfruit']\n"
     ]
    }
   ],
   "source": [
    "fruits = \"Apples Oranges Bananas Pineapples Persimmons Dragonfruit\"\n",
    "fruitList = fruits.split(' ')\n",
    "print(fruits)\n",
    "print(fruitList)"
   ]
  },
  {
   "cell_type": "markdown",
   "metadata": {},
   "source": [
    "Make a variable named fruits that contains a string \"Apples,Oranges,Bananas,Pineapples,Persimmons,Dragonfruit\" and make it into a list splitting it by the commas."
   ]
  },
  {
   "cell_type": "code",
   "execution_count": 33,
   "metadata": {},
   "outputs": [
    {
     "name": "stdout",
     "output_type": "stream",
     "text": [
      "Apples,Oranges,Bananas,Pineapples,Persimmons,Dragonfruit\n",
      "['Apples', 'Oranges', 'Bananas', 'Pineapples', 'Persimmons', 'Dragonfruit']\n"
     ]
    }
   ],
   "source": [
    "fruits = \"Apples,Oranges,Bananas,Pineapples,Persimmons,Dragonfruit\"\n",
    "fruitList = fruits.split(',')\n",
    "print(fruits)\n",
    "print(fruitList)"
   ]
  },
  {
   "cell_type": "code",
   "execution_count": null,
   "metadata": {},
   "outputs": [],
   "source": []
  },
  {
   "cell_type": "code",
   "execution_count": null,
   "metadata": {},
   "outputs": [],
   "source": []
  }
 ],
 "metadata": {
  "kernelspec": {
   "display_name": "Python 3",
   "language": "python",
   "name": "python3"
  },
  "language_info": {
   "codemirror_mode": {
    "name": "ipython",
    "version": 3
   },
   "file_extension": ".py",
   "mimetype": "text/x-python",
   "name": "python",
   "nbconvert_exporter": "python",
   "pygments_lexer": "ipython3",
   "version": "3.7.6"
  }
 },
 "nbformat": 4,
 "nbformat_minor": 4
}
